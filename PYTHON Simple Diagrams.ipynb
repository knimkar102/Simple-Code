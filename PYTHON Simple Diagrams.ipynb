{
 "cells": [
  {
   "cell_type": "code",
   "execution_count": 1,
   "metadata": {},
   "outputs": [],
   "source": [
    "import pandas as pd\n",
    "import numpy as np\n",
    "from astropy.table import Table\n",
    "from matplotlib import pyplot as plt\n",
    "from astropy.io import ascii\n",
    "from astropy.io import fits"
   ]
  },
  {
   "cell_type": "code",
   "execution_count": 22,
   "metadata": {},
   "outputs": [
    {
     "name": "stdout",
     "output_type": "stream",
     "text": [
      "<astropy.io.fits.hdu.table.BinTableHDU object at 0x123160b38>\n"
     ]
    },
    {
     "data": {
      "text/plain": [
       "ColDefs(\n",
       "    name = 'Cluster'; format = '15A'; disp = 'A15'\n",
       "    name = 'PHOTID'; format = '1J'; null = -2147483647; disp = 'I11'\n",
       "    name = 'SPECID'; format = '1J'; null = -2147483647; disp = 'I11'\n",
       "    name = 'EXTVER'; format = '1I'; null = -32767; disp = 'I11'\n",
       "    name = 'RA(J2000)'; format = '1E'; unit = 'deg'; disp = 'G15.7'\n",
       "    name = 'DEC(J2000)'; format = '1E'; unit = 'deg'; disp = 'G15.7'\n",
       "    name = 'ZMAG_TOTAL'; format = '1E'; disp = 'G15.7'\n",
       "    name = 'EZMAG_TOTAL'; format = '1E'; disp = 'G15.7'\n",
       "    name = 'SNR_8500_VAR'; format = '1E'; disp = 'G15.7'\n",
       "    name = 'SNR_8500_RMS'; format = '1E'; disp = 'G15.7'\n",
       "    name = 'IRAC1MAG_TOTAL'; format = '1E'; disp = 'G15.7'\n",
       "    name = 'EIRAC1MAG_TOTAL'; format = '1E'; disp = 'G15.7'\n",
       "    name = 'OBJClass'; format = '1I'; null = -32767; disp = 'I11'\n",
       "    name = 'Redshift'; format = '1E'; disp = 'G15.7'\n",
       "    name = 'Redshift_Quality'; format = '1I'; null = -32767; disp = 'I11'\n",
       "    name = 'Mass'; format = '1E'; disp = 'G15.7'\n",
       "    name = 'EMass'; format = '1E'; disp = 'G15.7'\n",
       "    name = 'D4000'; format = '1E'; disp = 'G15.7'\n",
       "    name = 'eD4000'; format = '1E'; disp = 'G15.7'\n",
       "    name = 'EWOII'; format = '1E'; disp = 'G15.7'\n",
       "    name = 'eEWOII'; format = '1E'; disp = 'G15.7'\n",
       "    name = 'EWHdelta'; format = '1E'; disp = 'G15.7'\n",
       "    name = 'eEWHdelta'; format = '1E'; disp = 'G15.7'\n",
       "    name = 'member_Clean'; format = '1E'; disp = 'G15.7'\n",
       "    name = 'member_EM'; format = '1E'; disp = 'G15.7'\n",
       ")"
      ]
     },
     "execution_count": 22,
     "metadata": {},
     "output_type": "execute_result"
    }
   ],
   "source": [
    "GOGREENDATA = fits.open('./v1.0/spectroscopy/cats/GOGREEN_goodz_zcat_v1.0.fits')\n",
    "print(GOGREENDATA[1])\n",
    "GOGREENDATA[1].columns"
   ]
  },
  {
   "cell_type": "code",
   "execution_count": 23,
   "metadata": {},
   "outputs": [],
   "source": [
    "# Make a data file of the GOGREENDATA\n",
    "RedshiftData = GOGREENDATA[1].columns"
   ]
  },
  {
   "cell_type": "code",
   "execution_count": 26,
   "metadata": {},
   "outputs": [],
   "source": [
    "catdata = GOGREENDATA[1].data"
   ]
  },
  {
   "cell_type": "code",
   "execution_count": 27,
   "metadata": {},
   "outputs": [
    {
     "data": {
      "text/plain": [
       "('COSMOS-125', 81508, 114081508, 2, 150.6097, 2.134149, 23.310665, 0.077542014, 2.862871, 1.8293086, 21.501059, 0.10681412, 1, 1.13177, 4, 10.381105, 1.1289968, 1.2377292, 0.08545634, 52.396397, 9906.903, 0.06462065, 42252.883, -1.0, -1.0)"
      ]
     },
     "execution_count": 27,
     "metadata": {},
     "output_type": "execute_result"
    }
   ],
   "source": [
    "catdata[1]\n"
   ]
  },
  {
   "cell_type": "code",
   "execution_count": 30,
   "metadata": {},
   "outputs": [
    {
     "data": {
      "text/plain": [
       "1550"
      ]
     },
     "execution_count": 30,
     "metadata": {},
     "output_type": "execute_result"
    }
   ],
   "source": [
    "z = catdata['Redshift']\n",
    "SpecID = catdata['SPECID']\n",
    "len(z)\n"
   ]
  },
  {
   "cell_type": "code",
   "execution_count": 33,
   "metadata": {},
   "outputs": [
    {
     "data": {
      "image/png": "[encoded data removed]",
      "text/plain": [
       "<Figure size 432x288 with 1 Axes>"
      ]
     },
     "metadata": {
      "needs_background": "light"
     },
     "output_type": "display_data"
    }
   ],
   "source": [
    "nbins = int(100)\n",
    "hist = plt.hist(z, bins = nbins)\n",
    "plt.show()"
   ]
  },
  {
   "cell_type": "code",
   "execution_count": 34,
   "metadata": {},
   "outputs": [],
   "source": [
    "# The above plot of redshift (horizontal axis) versus number of objects(vertical axis)\n"
   ]
  },
  {
   "cell_type": "code",
   "execution_count": 38,
   "metadata": {},
   "outputs": [
    {
     "name": "stderr",
     "output_type": "stream",
     "text": [
      "/Users/k537n315/anaconda3/lib/python3.7/site-packages/ipykernel_launcher.py:1: RuntimeWarning: invalid value encountered in less\n",
      "  \"\"\"Entry point for launching an IPython kernel.\n"
     ]
    },
    {
     "data": {
      "image/png": "[encoded data removed]",
      "text/plain": [
       "<Figure size 432x288 with 1 Axes>"
      ]
     },
     "metadata": {
      "needs_background": "light"
     },
     "output_type": "display_data"
    }
   ],
   "source": [
    "igoodz = np.where(catdata['ZMAG_TOTAL']<50.)\n",
    "zmagVSred = plt.scatter(catdata['Redshift'][igoodz],catdata['ZMAG_TOTAL'][igoodz])\n"
   ]
  },
  {
   "cell_type": "code",
   "execution_count": 39,
   "metadata": {},
   "outputs": [],
   "source": [
    "# This is shows magnitude vs redshift"
   ]
  },
  {
   "cell_type": "code",
   "execution_count": 41,
   "metadata": {},
   "outputs": [],
   "source": [
    "# Next make color-color diagrams"
   ]
  },
  {
   "cell_type": "code",
   "execution_count": null,
   "metadata": {},
   "outputs": [],
   "source": [
    "UVJinfo"
   ]
  }
 ],
 "metadata": {
  "kernelspec": {
   "display_name": "Python 3",
   "language": "python",
   "name": "python3"
  },
  "language_info": {
   "codemirror_mode": {
    "name": "ipython",
    "version": 3
   },
   "file_extension": ".py",
   "mimetype": "text/x-python",
   "name": "python",
   "nbconvert_exporter": "python",
   "pygments_lexer": "ipython3",
   "version": "3.7.1"
  }
 },
 "nbformat": 4,
 "nbformat_minor": 2
}
